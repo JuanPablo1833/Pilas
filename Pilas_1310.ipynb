{
  "nbformat": 4,
  "nbformat_minor": 0,
  "metadata": {
    "colab": {
      "name": "Pilas_1310.ipynb",
      "provenance": [],
      "authorship_tag": "ABX9TyNMrVHcrODFIDmZjLkQlxOu",
      "include_colab_link": true
    },
    "kernelspec": {
      "name": "python3",
      "display_name": "Python 3"
    },
    "language_info": {
      "name": "python"
    }
  },
  "cells": [
    {
      "cell_type": "markdown",
      "metadata": {
        "id": "view-in-github",
        "colab_type": "text"
      },
      "source": [
        "<a href=\"https://colab.research.google.com/github/JuanPablo1833/Pilas/blob/main/Pilas_1310.ipynb\" target=\"_parent\"><img src=\"https://colab.research.google.com/assets/colab-badge.svg\" alt=\"Open In Colab\"/></a>"
      ]
    },
    {
      "cell_type": "code",
      "metadata": {
        "id": "kq82s3KBMyXR"
      },
      "source": [
        "class StackADT:\n",
        "    def __init__(self):\n",
        "        self.__data = list()\n",
        "    #regresa true y la pila esta vacia \n",
        "    def is_empty(self):\n",
        "       return len(self.__data) == 0\n",
        "    \n",
        "    def get_length(self):\n",
        "        return len(self.__data)   \n",
        "    \n",
        "    def pop(self):\n",
        "        if self.is_empty():\n",
        "            print(f'pila vacia')\n",
        "        else:\n",
        "            return self.__data.pop()  \n",
        "    \n",
        "    def peek(self):\n",
        "        if self.is_empty():\n",
        "            print(f'pila vacia')\n",
        "        else:\n",
        "            return self.__data[ -1 ]\n",
        "    \n",
        "    def push(self, value):\n",
        "        self.__data.append(value)\n",
        "    \n",
        "    def to_string(self):\n",
        "        for item in self.__data[::-1]:\n",
        "            print(f'|{item}|') #endddddddddd   \n",
        "                                                                                                                                                                                                 \n",
        "                                                           \n",
        "       \n",
        "  \n",
        "\n"
      ],
      "execution_count": 47,
      "outputs": []
    },
    {
      "cell_type": "code",
      "metadata": {
        "colab": {
          "base_uri": "https://localhost:8080/"
        },
        "id": "75qS8BpDQeHr",
        "outputId": "4dc1194c-826b-4af8-ab08-d5bbb61f4dde"
      },
      "source": [
        "pila = StackADT()\n",
        "print(\"Esta vacia? =\" , pila.is_empty() )\n",
        "print(\"# elementos:\" , pila.get_length() )\n",
        "pila.push(10)\n",
        "print(\"Esta vacia? =\" , pila.is_empty() )\n",
        "print(\"# elementos:\" , pila.get_length() )\n",
        "pila.push(20)\n",
        "pila.push(30)\n",
        "pila.push(40)\n",
        "pila.to_string()\n",
        "print(pila.pop())\n",
        "print(pila.peek())\n",
        "pila.to_string()"
      ],
      "execution_count": 48,
      "outputs": [
        {
          "output_type": "stream",
          "name": "stdout",
          "text": [
            "Esta vacia? = True\n",
            "# elementos: 0\n",
            "Esta vacia? = False\n",
            "# elementos: 1\n",
            "|40|\n",
            "|30|\n",
            "|20|\n",
            "|10|\n",
            "40\n",
            "30\n",
            "|30|\n",
            "|20|\n",
            "|10|\n"
          ]
        }
      ]
    },
    {
      "cell_type": "code",
      "metadata": {
        "colab": {
          "base_uri": "https://localhost:8080/"
        },
        "id": "bssnHYt0ykNI",
        "outputId": "8746ce9a-bf7b-4be8-9c5a-6eda67ec4230"
      },
      "source": [
        "#aplicacion de pilas\n",
        "#en programacion\n",
        "!cat prog.txt\n"
      ],
      "execution_count": 49,
      "outputs": [
        {
          "output_type": "stream",
          "name": "stdout",
          "text": [
            "#include <stdio.h>\r\n",
            "int main()\r\n",
            "{\r\n",
            "    int num, count, sum = 0;\r\n",
            "     \r\n",
            "    printf(\"Enter a positive integer: \");\r\n",
            "    scanf(\"%d\", &num);\r\n",
            "\r\n",
            "    // for loop terminates when num is less than count\r\n",
            "    for(count = 1; count <= num; ++count)\r\n",
            "    {\r\n",
            "        sum += count;\r\n",
            "    }\r\n",
            "\r\n",
            "    printf(\"Sum = %d\", sum);\r\n",
            "\r\n",
            "    return 0;\r\n",
            "}"
          ]
        }
      ]
    },
    {
      "cell_type": "code",
      "metadata": {
        "colab": {
          "base_uri": "https://localhost:8080/"
        },
        "id": "au1jIMpozx58",
        "outputId": "0db19e52-f005-41d3-c970-5265a88d9bc8"
      },
      "source": [
        "entrada = open(\"prog.txt\", 'rt')\n",
        "codigo = entrada.read()\n",
        "#print(codigo)\n",
        "pilaControl = StackADT()\n",
        "pilaControl.push(\"#\") #caracter de pila vacia \n",
        "for letra in codigo:\n",
        "    #print(f\"--> {letra}<--\")\n",
        "    if letra == '{':\n",
        "        pilaControl.push(\"{\")\n",
        "    elif letra == '}':\n",
        "        basura = pilaControl.pop() \n",
        "    else :\n",
        "        pass     \n",
        "       \n",
        "if pilaControl.peek() == '#':\n",
        "    print(\"correctamente valanceado\")\n",
        "else:\n",
        "    print(\"el codigo no esta valanceado en llaves {y}\")    \n",
        "\n"
      ],
      "execution_count": 96,
      "outputs": [
        {
          "output_type": "stream",
          "name": "stdout",
          "text": [
            "correctamente valanceado\n"
          ]
        }
      ]
    },
    {
      "cell_type": "code",
      "metadata": {
        "id": "UrN_YWg77IC3"
      },
      "source": [
        "#aplicacion de pilas\n",
        "##estrategias de diseñpo de algoritmos\n"
      ],
      "execution_count": null,
      "outputs": []
    }
  ]
}